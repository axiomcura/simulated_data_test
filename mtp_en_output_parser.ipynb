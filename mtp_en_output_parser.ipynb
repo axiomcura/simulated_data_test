{
 "cells": [
  {
   "cell_type": "code",
   "execution_count": 6,
   "source": [
    "with open(\"./test.txt\", \"r\") as f:\n",
    "    data = f.read()"
   ],
   "outputs": [],
   "metadata": {}
  },
  {
   "cell_type": "code",
   "execution_count": 7,
   "source": [
    "x = [string.split() for string in data.splitlines()]\n",
    "\n"
   ],
   "outputs": [],
   "metadata": {}
  },
  {
   "cell_type": "code",
   "execution_count": 11,
   "source": [
    "pairs = []\n",
    "results = []\n",
    "for idx in range(len(x)):\n",
    "\n",
    "    if len(x[idx]) == 0:\n",
    "        continue\n",
    "    elif x[idx][0].startswith(\"Weight\"):\n",
    "        weight_and_scores = tuple(zip(x[idx], x[idx+1]))\n",
    "        for weight_score in weight_and_scores:\n",
    "            pairs.append(weight_score)\n",
    "    elif x[idx][0].startswith(\"$\"):\n",
    "        weight_and_score = (x[idx][0], x[idx+1][1:])\n",
    "        results.append(weight_and_score)\n",
    "    else:\n",
    "        continue\n",
    "\n",
    "\n"
   ],
   "outputs": [],
   "metadata": {}
  },
  {
   "cell_type": "code",
   "execution_count": 13,
   "source": [
    "pairs + results"
   ],
   "outputs": [
    {
     "output_type": "execute_result",
     "data": {
      "text/plain": [
       "[('Weight=0.2', '0.7520'),\n",
       " ('Weight=0.3', '0.7607'),\n",
       " ('Weight=0.4', '0.7827'),\n",
       " ('Weight=0.5', '0.7910'),\n",
       " ('Weight=0.6', '0.7911'),\n",
       " ('Weight=0.7', '0.7837'),\n",
       " ('Weight=0.8', '0.7953'),\n",
       " ('Weight=0.9', '0.8039'),\n",
       " ('Weight=1', '0.8020'),\n",
       " ('Weight=1.1', '0.7865'),\n",
       " ('Weight=1.2', '0.7602'),\n",
       " ('Weight=1.3', '0.7729'),\n",
       " ('Weight=1.4', '0.7580'),\n",
       " ('Weight=1.5', '0.7342'),\n",
       " ('Weight=1.6', '0.7269'),\n",
       " ('Weight=1.7', '0.7122'),\n",
       " ('Weight=1.8', '0.6778'),\n",
       " ('$mis.record', ['0.63', '0.76']),\n",
       " ('$sensitivity', ['0.76', '0.76']),\n",
       " ('$specificity', ['0.9305263', '0.9242105'])]"
      ]
     },
     "metadata": {},
     "execution_count": 13
    }
   ],
   "metadata": {}
  },
  {
   "cell_type": "code",
   "execution_count": null,
   "source": [],
   "outputs": [],
   "metadata": {}
  }
 ],
 "metadata": {
  "orig_nbformat": 4,
  "language_info": {
   "name": "python",
   "version": "3.7.9",
   "mimetype": "text/x-python",
   "codemirror_mode": {
    "name": "ipython",
    "version": 3
   },
   "pygments_lexer": "ipython3",
   "nbconvert_exporter": "python",
   "file_extension": ".py"
  },
  "kernelspec": {
   "name": "python3",
   "display_name": "Python 3.7.9 64-bit ('mpmp': conda)"
  },
  "interpreter": {
   "hash": "d6776254a2969257847587a87d129b40538d539afd677c101ad8b8743c934574"
  }
 },
 "nbformat": 4,
 "nbformat_minor": 2
}